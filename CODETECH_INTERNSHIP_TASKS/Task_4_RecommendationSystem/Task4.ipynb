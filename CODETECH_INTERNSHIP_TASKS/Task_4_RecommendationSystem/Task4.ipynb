{
 "cells": [
  {
   "cell_type": "code",
   "execution_count": 2,
   "id": "f399e2da-1daf-4b77-8281-98a9e7314cb0",
   "metadata": {},
   "outputs": [],
   "source": [
    "# Step 1: Import necessary libraries\n",
    "import pandas as pd\n",
    "import numpy as np\n",
    "from sklearn.preprocessing import LabelEncoder\n",
    "from sklearn.decomposition import TruncatedSVD\n",
    "from sklearn.metrics import mean_squared_error\n",
    "import urllib.request\n",
    "import zipfile\n",
    "import os\n"
   ]
  },
  {
   "cell_type": "code",
   "execution_count": 3,
   "id": "71255be7-e11b-4aa3-9fb3-f7ef17230bb5",
   "metadata": {},
   "outputs": [
    {
     "name": "stdout",
     "output_type": "stream",
     "text": [
      "✅ Dataset already available.\n"
     ]
    }
   ],
   "source": [
    "# Step 2: Download and extract MovieLens 100K dataset if not already present\n",
    "dataset_url = \"http://files.grouplens.org/datasets/movielens/ml-100k.zip\"\n",
    "dataset_path = \"ml-100k.zip\"\n",
    "\n",
    "if not os.path.exists(\"ml-100k\"):\n",
    "    print(\"📦 Downloading MovieLens dataset...\")\n",
    "    urllib.request.urlretrieve(dataset_url, dataset_path)\n",
    "    with zipfile.ZipFile(dataset_path, \"r\") as zip_ref:\n",
    "        zip_ref.extractall(\".\")\n",
    "    print(\"✅ Extraction completed!\")\n",
    "else:\n",
    "    print(\"✅ Dataset already available.\")\n"
   ]
  },
  {
   "cell_type": "code",
   "execution_count": 4,
   "id": "4483f0ee-28d7-4e15-9599-c66a2a82caef",
   "metadata": {},
   "outputs": [
    {
     "data": {
      "text/html": [
       "<div>\n",
       "<style scoped>\n",
       "    .dataframe tbody tr th:only-of-type {\n",
       "        vertical-align: middle;\n",
       "    }\n",
       "\n",
       "    .dataframe tbody tr th {\n",
       "        vertical-align: top;\n",
       "    }\n",
       "\n",
       "    .dataframe thead th {\n",
       "        text-align: right;\n",
       "    }\n",
       "</style>\n",
       "<table border=\"1\" class=\"dataframe\">\n",
       "  <thead>\n",
       "    <tr style=\"text-align: right;\">\n",
       "      <th></th>\n",
       "      <th>userId</th>\n",
       "      <th>movieId</th>\n",
       "      <th>rating</th>\n",
       "    </tr>\n",
       "  </thead>\n",
       "  <tbody>\n",
       "    <tr>\n",
       "      <th>0</th>\n",
       "      <td>196</td>\n",
       "      <td>242</td>\n",
       "      <td>3</td>\n",
       "    </tr>\n",
       "    <tr>\n",
       "      <th>1</th>\n",
       "      <td>186</td>\n",
       "      <td>302</td>\n",
       "      <td>3</td>\n",
       "    </tr>\n",
       "    <tr>\n",
       "      <th>2</th>\n",
       "      <td>22</td>\n",
       "      <td>377</td>\n",
       "      <td>1</td>\n",
       "    </tr>\n",
       "    <tr>\n",
       "      <th>3</th>\n",
       "      <td>244</td>\n",
       "      <td>51</td>\n",
       "      <td>2</td>\n",
       "    </tr>\n",
       "    <tr>\n",
       "      <th>4</th>\n",
       "      <td>166</td>\n",
       "      <td>346</td>\n",
       "      <td>1</td>\n",
       "    </tr>\n",
       "  </tbody>\n",
       "</table>\n",
       "</div>"
      ],
      "text/plain": [
       "   userId  movieId  rating\n",
       "0     196      242       3\n",
       "1     186      302       3\n",
       "2      22      377       1\n",
       "3     244       51       2\n",
       "4     166      346       1"
      ]
     },
     "execution_count": 4,
     "metadata": {},
     "output_type": "execute_result"
    }
   ],
   "source": [
    "# Step 3: Load the ratings data into a DataFrame\n",
    "df = pd.read_csv(\"ml-100k/u.data\", sep='\\t', names=[\"userId\", \"movieId\", \"rating\", \"timestamp\"])\n",
    "\n",
    "# Remove the timestamp column as it's not needed\n",
    "df.drop(\"timestamp\", axis=1, inplace=True)\n",
    "\n",
    "# Preview first 5 rows\n",
    "df.head()\n"
   ]
  },
  {
   "cell_type": "code",
   "execution_count": 5,
   "id": "9b052c01-7b28-449f-b6e7-6807be01d151",
   "metadata": {},
   "outputs": [],
   "source": [
    "# Step 4: Encode userId and movieId to numeric indices (0-based)\n",
    "user_enc = LabelEncoder()\n",
    "item_enc = LabelEncoder()\n",
    "\n",
    "# Create new encoded columns for easier indexing\n",
    "df['user'] = user_enc.fit_transform(df['userId'])\n",
    "df['item'] = item_enc.fit_transform(df['movieId'])\n"
   ]
  },
  {
   "cell_type": "code",
   "execution_count": 6,
   "id": "eeb43bf8-68b8-472e-971e-2a15c9a36d4f",
   "metadata": {},
   "outputs": [],
   "source": [
    "# Step 5: Create the user-item rating matrix (sparse matrix)\n",
    "n_users = df['user'].nunique()\n",
    "n_items = df['item'].nunique()\n",
    "\n",
    "# Initialize a matrix of zeros with shape (n_users, n_items)\n",
    "rating_matrix = np.zeros((n_users, n_items))\n",
    "\n",
    "# Fill the matrix with actual ratings\n",
    "for row in df.itertuples():\n",
    "    rating_matrix[row.user, row.item] = row.rating\n"
   ]
  },
  {
   "cell_type": "code",
   "execution_count": 7,
   "id": "d284bd64-7b28-4d5a-be80-cbaf73257975",
   "metadata": {},
   "outputs": [],
   "source": [
    "# Step 6: Apply Truncated SVD to reduce dimensionality (Matrix Factorization)\n",
    "# n_components = number of latent features (tunable hyperparameter)\n",
    "svd = TruncatedSVD(n_components=20, random_state=42)\n",
    "\n",
    "# Fit the model and transform the original rating matrix\n",
    "matrix_reduced = svd.fit_transform(rating_matrix)\n",
    "\n",
    "# Reconstruct the full matrix using dot product (approximate predictions)\n",
    "reconstructed_matrix = np.dot(matrix_reduced, svd.components_)\n"
   ]
  },
  {
   "cell_type": "code",
   "execution_count": 8,
   "id": "78a8098b-04b8-4f61-8f01-6bb0c9ed07a1",
   "metadata": {},
   "outputs": [
    {
     "name": "stdout",
     "output_type": "stream",
     "text": [
      "🎯 RMSE (on known ratings): 2.1329\n"
     ]
    }
   ],
   "source": [
    "# Step 7: Evaluate performance using RMSE (Root Mean Squared Error)\n",
    "# Only consider ratings that are known (i.e., > 0)\n",
    "mask = rating_matrix > 0\n",
    "rmse = np.sqrt(mean_squared_error(rating_matrix[mask], reconstructed_matrix[mask]))\n",
    "print(\"🎯 RMSE (on known ratings):\", round(rmse, 4))\n"
   ]
  },
  {
   "cell_type": "code",
   "execution_count": 9,
   "id": "55e2cde6-770d-42c6-9fa3-b4a3dfba9fe0",
   "metadata": {},
   "outputs": [],
   "source": [
    "# Step 8: Define a function to recommend top N movies to a given user\n",
    "def recommend_movies(user_id_original, top_n=5):\n",
    "    # Convert original user ID to encoded index\n",
    "    user_index = user_enc.transform([user_id_original])[0]\n",
    "\n",
    "    # Get predicted ratings for the user from reconstructed matrix\n",
    "    scores = reconstructed_matrix[user_index]\n",
    "\n",
    "    # Get indices of movies the user has already rated\n",
    "    rated_items = rating_matrix[user_index].nonzero()[0]\n",
    "\n",
    "    # Set scores of already rated items to -inf so they're not recommended again\n",
    "    scores[rated_items] = -np.inf\n",
    "\n",
    "    # Get indices of top-N highest scoring movies\n",
    "    top_items = np.argsort(scores)[::-1][:top_n]\n",
    "\n",
    "    # Convert encoded movie indices back to original movie IDs\n",
    "    top_movie_ids = item_enc.inverse_transform(top_items)\n",
    "    return top_movie_ids\n"
   ]
  },
  {
   "cell_type": "code",
   "execution_count": 10,
   "id": "93cca3ca-c202-49b6-b1d0-52482f477f17",
   "metadata": {},
   "outputs": [
    {
     "name": "stdout",
     "output_type": "stream",
     "text": [
      "🎬 Top 5 movie recommendations for User 196: [100 216 208  88 732]\n"
     ]
    }
   ],
   "source": [
    "# Step 9: Test the recommendation function for a sample user (e.g., userId = 196)\n",
    "user_id = 196\n",
    "recommendations = recommend_movies(user_id, top_n=5)\n",
    "print(f\"🎬 Top 5 movie recommendations for User {user_id}:\", recommendations)\n"
   ]
  },
  {
   "cell_type": "code",
   "execution_count": 11,
   "id": "57d9436a-b752-418e-96ee-343dfec3d14b",
   "metadata": {},
   "outputs": [
    {
     "name": "stdout",
     "output_type": "stream",
     "text": [
      "🍿 Recommended Movie Titles for User 196:\n",
      " ['Fargo (1996)', 'When Harry Met Sally... (1989)', 'Young Frankenstein (1974)', 'Sleepless in Seattle (1993)', 'Dave (1993)']\n"
     ]
    }
   ],
   "source": [
    "# Step 10 (Optional): Load movie titles to map recommended movie IDs to names\n",
    "movie_titles = pd.read_csv(\n",
    "    \"ml-100k/u.item\", sep=\"|\", header=None, encoding=\"latin-1\",\n",
    "    usecols=[0, 1], names=[\"movieId\", \"title\"]\n",
    ")\n",
    "\n",
    "# Create a dictionary to map movieId → title\n",
    "title_map = dict(zip(movie_titles['movieId'], movie_titles['title']))\n",
    "\n",
    "# Print movie titles for recommended IDs\n",
    "movie_titles_list = [title_map[mid] for mid in recommendations]\n",
    "print(f\"🍿 Recommended Movie Titles for User {user_id}:\\n\", movie_titles_list)\n"
   ]
  },
  {
   "cell_type": "code",
   "execution_count": null,
   "id": "e5d0aa1b-72f5-4df9-ae61-264a03baa03f",
   "metadata": {},
   "outputs": [],
   "source": []
  }
 ],
 "metadata": {
  "kernelspec": {
   "display_name": "Python 3 (ipykernel)",
   "language": "python",
   "name": "python3"
  },
  "language_info": {
   "codemirror_mode": {
    "name": "ipython",
    "version": 3
   },
   "file_extension": ".py",
   "mimetype": "text/x-python",
   "name": "python",
   "nbconvert_exporter": "python",
   "pygments_lexer": "ipython3",
   "version": "3.12.7"
  }
 },
 "nbformat": 4,
 "nbformat_minor": 5
}
